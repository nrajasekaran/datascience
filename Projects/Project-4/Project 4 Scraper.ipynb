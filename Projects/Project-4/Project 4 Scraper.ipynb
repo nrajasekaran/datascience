{
 "cells": [
  {
   "cell_type": "code",
   "execution_count": null,
   "metadata": {
    "collapsed": true
   },
   "outputs": [],
   "source": [
    "#message add this jupyter notebook please git. stop failing"
   ]
  },
  {
   "cell_type": "code",
   "execution_count": 1,
   "metadata": {
    "collapsed": true
   },
   "outputs": [],
   "source": [
    "import requests\n",
    "import bs4\n",
    "from bs4 import BeautifulSoup"
   ]
  },
  {
   "cell_type": "code",
   "execution_count": 2,
   "metadata": {
    "collapsed": true
   },
   "outputs": [],
   "source": [
    "def get_loc(result):\n",
    "    try:\n",
    "        return result.find('span', {'class':'location'}).text\n",
    "    except:\n",
    "        return 'NA'"
   ]
  },
  {
   "cell_type": "code",
   "execution_count": 3,
   "metadata": {
    "collapsed": true
   },
   "outputs": [],
   "source": [
    "def get_comp(result):\n",
    "    try:\n",
    "        return result.find('span', {'class':'company'}).text\n",
    "    except:\n",
    "        return 'NA'\n",
    "def get_job(result):\n",
    "    try:\n",
    "        return result.find('a', {'data-tn-element':'jobTitle'}).text\n",
    "    except:\n",
    "        return 'NA'\n",
    "def get_sal(result):\n",
    "    try:\n",
    "        return result.find('td', {'class':'snip'}).find('nobr').text\n",
    "    except:\n",
    "        return 'NA'\n",
    "def get_desc(result):\n",
    "    try:\n",
    "        return result.find('span', {'class':'summary'}).text\n",
    "    except:\n",
    "        return 'NA'"
   ]
  },
  {
   "cell_type": "code",
   "execution_count": 4,
   "metadata": {
    "collapsed": true
   },
   "outputs": [],
   "source": [
    "from time import sleep\n",
    "import pandas as pd\n",
    "import numpy as np\n"
   ]
  },
  {
   "cell_type": "code",
   "execution_count": 5,
   "metadata": {},
   "outputs": [
    {
     "data": {
      "text/plain": [
       "30"
      ]
     },
     "execution_count": 5,
     "metadata": {},
     "output_type": "execute_result"
    }
   ],
   "source": [
    "indeed_cities = ['New+York', 'Chicago', 'San+Francisco', 'San+Jose', 'San+Diego', 'Los+Angeles', 'Washington%2C+DC',\n",
    "          'Boston', 'Pittsburgh', 'Philadelphia', 'Atlanta', 'Cincinnati', 'St.+Louis', 'Tampa', 'Oakland',\n",
    "          'Austin', 'Houston', 'Dallas', 'Seattle', 'Portland', 'Denver', 'Phoenix', 'Minneapolis', 'Miami',\n",
    "          'Charlotte', 'Jacksonville', 'Indianapolis', 'Nashville', 'Kansas+City', 'Columbus']\n",
    "len(indeed_cities)"
   ]
  },
  {
   "cell_type": "code",
   "execution_count": 7,
   "metadata": {},
   "outputs": [],
   "source": [
    "max_results_per_city = 100\n",
    "\n",
    "results = []\n",
    "\n",
    "for city in indeed_cities:\n",
    "    for start in range(0, max_results_per_city, 100):\n",
    "        url = \"https://www.indeed.com/jobs?as_and=data+scientist&as_phr=&as_any=&as_not=&as_ttl=&as_cmp=&jt=all&st=\\\n",
    "               &salary=&radius=25&l=\" + city + \"&fromage=any&limit=100&start=\" + str(start) + \"&sort=&psf=advsrch\"\n",
    "        html = requests.get(url)\n",
    "        soup = BeautifulSoup(html.text, 'html.parser')\n",
    "        for result in soup.find_all('div', {'class':' row result'}):\n",
    "            results.append(result)\n",
    "        sleep(1)"
   ]
  },
  {
   "cell_type": "code",
   "execution_count": 8,
   "metadata": {
    "collapsed": true
   },
   "outputs": [],
   "source": [
    "jobs0 = pd.DataFrame(columns=['location', 'title', 'company', 'salary', 'summary'])"
   ]
  },
  {
   "cell_type": "code",
   "execution_count": 9,
   "metadata": {
    "collapsed": true
   },
   "outputs": [],
   "source": [
    "for entry in results:\n",
    "    location = get_loc(entry)\n",
    "    title = get_job(entry)\n",
    "    company = get_comp(entry)\n",
    "    salary = get_sal(entry)\n",
    "    desc = get_desc(entry)\n",
    "    jobs0.loc[len(jobs0)] = [location, title, company, salary, desc]"
   ]
  },
  {
   "cell_type": "code",
   "execution_count": 12,
   "metadata": {},
   "outputs": [
    {
     "data": {
      "text/html": [
       "<div>\n",
       "<style>\n",
       "    .dataframe thead tr:only-child th {\n",
       "        text-align: right;\n",
       "    }\n",
       "\n",
       "    .dataframe thead th {\n",
       "        text-align: left;\n",
       "    }\n",
       "\n",
       "    .dataframe tbody tr th {\n",
       "        vertical-align: top;\n",
       "    }\n",
       "</style>\n",
       "<table border=\"1\" class=\"dataframe\">\n",
       "  <thead>\n",
       "    <tr style=\"text-align: right;\">\n",
       "      <th></th>\n",
       "      <th>location</th>\n",
       "      <th>title</th>\n",
       "      <th>company</th>\n",
       "      <th>salary</th>\n",
       "      <th>summary</th>\n",
       "    </tr>\n",
       "  </thead>\n",
       "  <tbody>\n",
       "    <tr>\n",
       "      <th>0</th>\n",
       "      <td>New York, NY 10032 (Washington Heights area)</td>\n",
       "      <td>Associate, Data Scientist</td>\n",
       "      <td>Morgan Stanley</td>\n",
       "      <td>NA</td>\n",
       "      <td>Utilize experience in applying Machine Learnin...</td>\n",
       "    </tr>\n",
       "    <tr>\n",
       "      <th>1</th>\n",
       "      <td>New York, NY 10011 (Chelsea area)</td>\n",
       "      <td>Data Scientist/Quantitative Analyst, Engineering</td>\n",
       "      <td>Google</td>\n",
       "      <td>NA</td>\n",
       "      <td>4 years of relevant work experience (e.g., as ...</td>\n",
       "    </tr>\n",
       "    <tr>\n",
       "      <th>2</th>\n",
       "      <td>New York, NY 10282 (Tribeca area)</td>\n",
       "      <td>Technology - GSAM Tech - Data Science and Mach...</td>\n",
       "      <td>Goldman Sachs</td>\n",
       "      <td>NA</td>\n",
       "      <td>IMD Knowledge Management team is looking to ex...</td>\n",
       "    </tr>\n",
       "    <tr>\n",
       "      <th>3</th>\n",
       "      <td>New York, NY</td>\n",
       "      <td>Data Scientist, Analytics</td>\n",
       "      <td>Facebook</td>\n",
       "      <td>NA</td>\n",
       "      <td>The Data Scientist Analytics role has work acr...</td>\n",
       "    </tr>\n",
       "    <tr>\n",
       "      <th>4</th>\n",
       "      <td>New York, NY</td>\n",
       "      <td>Data Scientist</td>\n",
       "      <td>Capital One</td>\n",
       "      <td>NA</td>\n",
       "      <td>Integrating with external data sources and API...</td>\n",
       "    </tr>\n",
       "    <tr>\n",
       "      <th>5</th>\n",
       "      <td>New York, NY</td>\n",
       "      <td>Data Scientist</td>\n",
       "      <td>Coach</td>\n",
       "      <td>NA</td>\n",
       "      <td>Build statistical analyses and machine learnin...</td>\n",
       "    </tr>\n",
       "    <tr>\n",
       "      <th>6</th>\n",
       "      <td>New York, NY</td>\n",
       "      <td>Research Scientist - All Levels (Applied Data ...</td>\n",
       "      <td>Columbia University</td>\n",
       "      <td>NA</td>\n",
       "      <td>Contribute to research projects involving one ...</td>\n",
       "    </tr>\n",
       "    <tr>\n",
       "      <th>7</th>\n",
       "      <td>New York, NY</td>\n",
       "      <td>Machine Learning</td>\n",
       "      <td>Twitter</td>\n",
       "      <td>NA</td>\n",
       "      <td>Cortex is a team of software engineers, data s...</td>\n",
       "    </tr>\n",
       "    <tr>\n",
       "      <th>8</th>\n",
       "      <td>New York, NY</td>\n",
       "      <td>Data Scientist</td>\n",
       "      <td>MealPal</td>\n",
       "      <td>NA</td>\n",
       "      <td>Verify data integrity used in analyses and wor...</td>\n",
       "    </tr>\n",
       "    <tr>\n",
       "      <th>9</th>\n",
       "      <td>New York, NY</td>\n",
       "      <td>Data Scientist</td>\n",
       "      <td>Vettery</td>\n",
       "      <td>NA</td>\n",
       "      <td>Build machine learning infrastructure and mode...</td>\n",
       "    </tr>\n",
       "    <tr>\n",
       "      <th>10</th>\n",
       "      <td>New York, NY</td>\n",
       "      <td>Data Scientist</td>\n",
       "      <td>OnDeck</td>\n",
       "      <td>NA</td>\n",
       "      <td>As a Data Scientist at OnDeck, you will:. Stro...</td>\n",
       "    </tr>\n",
       "    <tr>\n",
       "      <th>11</th>\n",
       "      <td>New York, NY 10022 (Midtown area)</td>\n",
       "      <td>Data Scientist - Journey Analytics</td>\n",
       "      <td>McKinsey &amp; Company</td>\n",
       "      <td>NA</td>\n",
       "      <td>As one of the fastest-growing parts of our fir...</td>\n",
       "    </tr>\n",
       "    <tr>\n",
       "      <th>12</th>\n",
       "      <td>New York, NY</td>\n",
       "      <td>Data Scientist</td>\n",
       "      <td>MetroPlus Health Plan</td>\n",
       "      <td>NA</td>\n",
       "      <td>MetroPlus Health Plan provides the highest qua...</td>\n",
       "    </tr>\n",
       "    <tr>\n",
       "      <th>13</th>\n",
       "      <td>New York, NY</td>\n",
       "      <td>Data Scientist</td>\n",
       "      <td>Amazon Web Services, Inc.</td>\n",
       "      <td>NA</td>\n",
       "      <td>We are looking for talented and experienced Ma...</td>\n",
       "    </tr>\n",
       "    <tr>\n",
       "      <th>14</th>\n",
       "      <td>New York, NY</td>\n",
       "      <td>Data Scientist - Worldwide Advanced Analytics ...</td>\n",
       "      <td>IBM</td>\n",
       "      <td>NA</td>\n",
       "      <td>As a member of our team you will get to work h...</td>\n",
       "    </tr>\n",
       "    <tr>\n",
       "      <th>15</th>\n",
       "      <td>New York, NY 10020 (Midtown area)</td>\n",
       "      <td>Data Scientist</td>\n",
       "      <td>Fareportal Inc.</td>\n",
       "      <td>NA</td>\n",
       "      <td>Advanced skills and training in machine learni...</td>\n",
       "    </tr>\n",
       "    <tr>\n",
       "      <th>16</th>\n",
       "      <td>New York, NY</td>\n",
       "      <td>Data Scientist</td>\n",
       "      <td>Loadsmart</td>\n",
       "      <td>NA</td>\n",
       "      <td>We are looking for a Data Scientist to join us...</td>\n",
       "    </tr>\n",
       "    <tr>\n",
       "      <th>17</th>\n",
       "      <td>New York, NY</td>\n",
       "      <td>Data Scientist</td>\n",
       "      <td>Foursquare</td>\n",
       "      <td>NA</td>\n",
       "      <td>Strategic analytics, marketing analytics, digi...</td>\n",
       "    </tr>\n",
       "    <tr>\n",
       "      <th>18</th>\n",
       "      <td>New York, NY</td>\n",
       "      <td>Data Scientist</td>\n",
       "      <td>Foot Locker</td>\n",
       "      <td>NA</td>\n",
       "      <td>We are searching for a forward thinking Data S...</td>\n",
       "    </tr>\n",
       "    <tr>\n",
       "      <th>19</th>\n",
       "      <td>New York, NY</td>\n",
       "      <td>Data Scientist</td>\n",
       "      <td>Pamten</td>\n",
       "      <td>NA</td>\n",
       "      <td>Experience implementing Regression, Bayesian, ...</td>\n",
       "    </tr>\n",
       "  </tbody>\n",
       "</table>\n",
       "</div>"
      ],
      "text/plain": [
       "                                        location  \\\n",
       "0   New York, NY 10032 (Washington Heights area)   \n",
       "1              New York, NY 10011 (Chelsea area)   \n",
       "2              New York, NY 10282 (Tribeca area)   \n",
       "3                                   New York, NY   \n",
       "4                                   New York, NY   \n",
       "5                                   New York, NY   \n",
       "6                                   New York, NY   \n",
       "7                                   New York, NY   \n",
       "8                                   New York, NY   \n",
       "9                                   New York, NY   \n",
       "10                                  New York, NY   \n",
       "11             New York, NY 10022 (Midtown area)   \n",
       "12                                  New York, NY   \n",
       "13                                  New York, NY   \n",
       "14                                  New York, NY   \n",
       "15             New York, NY 10020 (Midtown area)   \n",
       "16                                  New York, NY   \n",
       "17                                  New York, NY   \n",
       "18                                  New York, NY   \n",
       "19                                  New York, NY   \n",
       "\n",
       "                                                title  \\\n",
       "0                           Associate, Data Scientist   \n",
       "1    Data Scientist/Quantitative Analyst, Engineering   \n",
       "2   Technology - GSAM Tech - Data Science and Mach...   \n",
       "3                           Data Scientist, Analytics   \n",
       "4                                      Data Scientist   \n",
       "5                                      Data Scientist   \n",
       "6   Research Scientist - All Levels (Applied Data ...   \n",
       "7                                    Machine Learning   \n",
       "8                                      Data Scientist   \n",
       "9                                      Data Scientist   \n",
       "10                                     Data Scientist   \n",
       "11                 Data Scientist - Journey Analytics   \n",
       "12                                     Data Scientist   \n",
       "13                                     Data Scientist   \n",
       "14  Data Scientist - Worldwide Advanced Analytics ...   \n",
       "15                                     Data Scientist   \n",
       "16                                     Data Scientist   \n",
       "17                                     Data Scientist   \n",
       "18                                     Data Scientist   \n",
       "19                                     Data Scientist   \n",
       "\n",
       "                      company salary  \\\n",
       "0              Morgan Stanley     NA   \n",
       "1                      Google     NA   \n",
       "2               Goldman Sachs     NA   \n",
       "3                    Facebook     NA   \n",
       "4                 Capital One     NA   \n",
       "5                       Coach     NA   \n",
       "6         Columbia University     NA   \n",
       "7                     Twitter     NA   \n",
       "8                     MealPal     NA   \n",
       "9                     Vettery     NA   \n",
       "10                     OnDeck     NA   \n",
       "11         McKinsey & Company     NA   \n",
       "12      MetroPlus Health Plan     NA   \n",
       "13  Amazon Web Services, Inc.     NA   \n",
       "14                        IBM     NA   \n",
       "15            Fareportal Inc.     NA   \n",
       "16                  Loadsmart     NA   \n",
       "17                 Foursquare     NA   \n",
       "18                Foot Locker     NA   \n",
       "19                     Pamten     NA   \n",
       "\n",
       "                                              summary  \n",
       "0   Utilize experience in applying Machine Learnin...  \n",
       "1   4 years of relevant work experience (e.g., as ...  \n",
       "2   IMD Knowledge Management team is looking to ex...  \n",
       "3   The Data Scientist Analytics role has work acr...  \n",
       "4   Integrating with external data sources and API...  \n",
       "5   Build statistical analyses and machine learnin...  \n",
       "6   Contribute to research projects involving one ...  \n",
       "7   Cortex is a team of software engineers, data s...  \n",
       "8   Verify data integrity used in analyses and wor...  \n",
       "9   Build machine learning infrastructure and mode...  \n",
       "10  As a Data Scientist at OnDeck, you will:. Stro...  \n",
       "11  As one of the fastest-growing parts of our fir...  \n",
       "12  MetroPlus Health Plan provides the highest qua...  \n",
       "13  We are looking for talented and experienced Ma...  \n",
       "14  As a member of our team you will get to work h...  \n",
       "15  Advanced skills and training in machine learni...  \n",
       "16  We are looking for a Data Scientist to join us...  \n",
       "17  Strategic analytics, marketing analytics, digi...  \n",
       "18  We are searching for a forward thinking Data S...  \n",
       "19  Experience implementing Regression, Bayesian, ...  "
      ]
     },
     "execution_count": 12,
     "metadata": {},
     "output_type": "execute_result"
    }
   ],
   "source": [
    "jobs0.head(20)"
   ]
  },
  {
   "cell_type": "code",
   "execution_count": 11,
   "metadata": {
    "collapsed": true
   },
   "outputs": [],
   "source": [
    "jobs0.company = jobs0.company.str.encode('utf-8').astype(str).str.replace('\\n', '')\n",
    "jobs0.summary = jobs0.summary.str.encode('utf-8').astype(str).str.replace('\\n', '')"
   ]
  },
  {
   "cell_type": "code",
   "execution_count": 13,
   "metadata": {},
   "outputs": [
    {
     "data": {
      "text/html": [
       "<div>\n",
       "<style>\n",
       "    .dataframe thead tr:only-child th {\n",
       "        text-align: right;\n",
       "    }\n",
       "\n",
       "    .dataframe thead th {\n",
       "        text-align: left;\n",
       "    }\n",
       "\n",
       "    .dataframe tbody tr th {\n",
       "        vertical-align: top;\n",
       "    }\n",
       "</style>\n",
       "<table border=\"1\" class=\"dataframe\">\n",
       "  <thead>\n",
       "    <tr style=\"text-align: right;\">\n",
       "      <th></th>\n",
       "      <th>location</th>\n",
       "      <th>title</th>\n",
       "      <th>company</th>\n",
       "      <th>salary</th>\n",
       "      <th>summary</th>\n",
       "    </tr>\n",
       "  </thead>\n",
       "  <tbody>\n",
       "    <tr>\n",
       "      <th>0</th>\n",
       "      <td>New York, NY 10032 (Washington Heights area)</td>\n",
       "      <td>Associate, Data Scientist</td>\n",
       "      <td>Morgan Stanley</td>\n",
       "      <td>NA</td>\n",
       "      <td>Utilize experience in applying Machine Learnin...</td>\n",
       "    </tr>\n",
       "    <tr>\n",
       "      <th>1</th>\n",
       "      <td>New York, NY 10011 (Chelsea area)</td>\n",
       "      <td>Data Scientist/Quantitative Analyst, Engineering</td>\n",
       "      <td>Google</td>\n",
       "      <td>NA</td>\n",
       "      <td>4 years of relevant work experience (e.g., as ...</td>\n",
       "    </tr>\n",
       "    <tr>\n",
       "      <th>2</th>\n",
       "      <td>New York, NY 10282 (Tribeca area)</td>\n",
       "      <td>Technology - GSAM Tech - Data Science and Mach...</td>\n",
       "      <td>Goldman Sachs</td>\n",
       "      <td>NA</td>\n",
       "      <td>IMD Knowledge Management team is looking to ex...</td>\n",
       "    </tr>\n",
       "    <tr>\n",
       "      <th>3</th>\n",
       "      <td>New York, NY</td>\n",
       "      <td>Data Scientist, Analytics</td>\n",
       "      <td>Facebook</td>\n",
       "      <td>NA</td>\n",
       "      <td>The Data Scientist Analytics role has work acr...</td>\n",
       "    </tr>\n",
       "    <tr>\n",
       "      <th>4</th>\n",
       "      <td>New York, NY</td>\n",
       "      <td>Data Scientist</td>\n",
       "      <td>Capital One</td>\n",
       "      <td>NA</td>\n",
       "      <td>Integrating with external data sources and API...</td>\n",
       "    </tr>\n",
       "    <tr>\n",
       "      <th>5</th>\n",
       "      <td>New York, NY</td>\n",
       "      <td>Data Scientist</td>\n",
       "      <td>Coach</td>\n",
       "      <td>NA</td>\n",
       "      <td>Build statistical analyses and machine learnin...</td>\n",
       "    </tr>\n",
       "    <tr>\n",
       "      <th>6</th>\n",
       "      <td>New York, NY</td>\n",
       "      <td>Research Scientist - All Levels (Applied Data ...</td>\n",
       "      <td>Columbia University</td>\n",
       "      <td>NA</td>\n",
       "      <td>Contribute to research projects involving one ...</td>\n",
       "    </tr>\n",
       "    <tr>\n",
       "      <th>7</th>\n",
       "      <td>New York, NY</td>\n",
       "      <td>Machine Learning</td>\n",
       "      <td>Twitter</td>\n",
       "      <td>NA</td>\n",
       "      <td>Cortex is a team of software engineers, data s...</td>\n",
       "    </tr>\n",
       "    <tr>\n",
       "      <th>8</th>\n",
       "      <td>New York, NY</td>\n",
       "      <td>Data Scientist</td>\n",
       "      <td>MealPal</td>\n",
       "      <td>NA</td>\n",
       "      <td>Verify data integrity used in analyses and wor...</td>\n",
       "    </tr>\n",
       "    <tr>\n",
       "      <th>9</th>\n",
       "      <td>New York, NY</td>\n",
       "      <td>Data Scientist</td>\n",
       "      <td>Vettery</td>\n",
       "      <td>NA</td>\n",
       "      <td>Build machine learning infrastructure and mode...</td>\n",
       "    </tr>\n",
       "    <tr>\n",
       "      <th>10</th>\n",
       "      <td>New York, NY</td>\n",
       "      <td>Data Scientist</td>\n",
       "      <td>OnDeck</td>\n",
       "      <td>NA</td>\n",
       "      <td>As a Data Scientist at OnDeck, you will:. Stro...</td>\n",
       "    </tr>\n",
       "    <tr>\n",
       "      <th>11</th>\n",
       "      <td>New York, NY 10022 (Midtown area)</td>\n",
       "      <td>Data Scientist - Journey Analytics</td>\n",
       "      <td>McKinsey &amp; Company</td>\n",
       "      <td>NA</td>\n",
       "      <td>As one of the fastest-growing parts of our fir...</td>\n",
       "    </tr>\n",
       "    <tr>\n",
       "      <th>12</th>\n",
       "      <td>New York, NY</td>\n",
       "      <td>Data Scientist</td>\n",
       "      <td>MetroPlus Health Plan</td>\n",
       "      <td>NA</td>\n",
       "      <td>MetroPlus Health Plan provides the highest qua...</td>\n",
       "    </tr>\n",
       "    <tr>\n",
       "      <th>13</th>\n",
       "      <td>New York, NY</td>\n",
       "      <td>Data Scientist</td>\n",
       "      <td>Amazon Web Services, Inc.</td>\n",
       "      <td>NA</td>\n",
       "      <td>We are looking for talented and experienced Ma...</td>\n",
       "    </tr>\n",
       "    <tr>\n",
       "      <th>14</th>\n",
       "      <td>New York, NY</td>\n",
       "      <td>Data Scientist - Worldwide Advanced Analytics ...</td>\n",
       "      <td>IBM</td>\n",
       "      <td>NA</td>\n",
       "      <td>As a member of our team you will get to work h...</td>\n",
       "    </tr>\n",
       "    <tr>\n",
       "      <th>15</th>\n",
       "      <td>New York, NY 10020 (Midtown area)</td>\n",
       "      <td>Data Scientist</td>\n",
       "      <td>Fareportal Inc.</td>\n",
       "      <td>NA</td>\n",
       "      <td>Advanced skills and training in machine learni...</td>\n",
       "    </tr>\n",
       "    <tr>\n",
       "      <th>16</th>\n",
       "      <td>New York, NY</td>\n",
       "      <td>Data Scientist</td>\n",
       "      <td>Loadsmart</td>\n",
       "      <td>NA</td>\n",
       "      <td>We are looking for a Data Scientist to join us...</td>\n",
       "    </tr>\n",
       "    <tr>\n",
       "      <th>17</th>\n",
       "      <td>New York, NY</td>\n",
       "      <td>Data Scientist</td>\n",
       "      <td>Foursquare</td>\n",
       "      <td>NA</td>\n",
       "      <td>Strategic analytics, marketing analytics, digi...</td>\n",
       "    </tr>\n",
       "    <tr>\n",
       "      <th>18</th>\n",
       "      <td>New York, NY</td>\n",
       "      <td>Data Scientist</td>\n",
       "      <td>Foot Locker</td>\n",
       "      <td>NA</td>\n",
       "      <td>We are searching for a forward thinking Data S...</td>\n",
       "    </tr>\n",
       "    <tr>\n",
       "      <th>19</th>\n",
       "      <td>New York, NY</td>\n",
       "      <td>Data Scientist</td>\n",
       "      <td>Pamten</td>\n",
       "      <td>NA</td>\n",
       "      <td>Experience implementing Regression, Bayesian, ...</td>\n",
       "    </tr>\n",
       "  </tbody>\n",
       "</table>\n",
       "</div>"
      ],
      "text/plain": [
       "                                        location  \\\n",
       "0   New York, NY 10032 (Washington Heights area)   \n",
       "1              New York, NY 10011 (Chelsea area)   \n",
       "2              New York, NY 10282 (Tribeca area)   \n",
       "3                                   New York, NY   \n",
       "4                                   New York, NY   \n",
       "5                                   New York, NY   \n",
       "6                                   New York, NY   \n",
       "7                                   New York, NY   \n",
       "8                                   New York, NY   \n",
       "9                                   New York, NY   \n",
       "10                                  New York, NY   \n",
       "11             New York, NY 10022 (Midtown area)   \n",
       "12                                  New York, NY   \n",
       "13                                  New York, NY   \n",
       "14                                  New York, NY   \n",
       "15             New York, NY 10020 (Midtown area)   \n",
       "16                                  New York, NY   \n",
       "17                                  New York, NY   \n",
       "18                                  New York, NY   \n",
       "19                                  New York, NY   \n",
       "\n",
       "                                                title  \\\n",
       "0                           Associate, Data Scientist   \n",
       "1    Data Scientist/Quantitative Analyst, Engineering   \n",
       "2   Technology - GSAM Tech - Data Science and Mach...   \n",
       "3                           Data Scientist, Analytics   \n",
       "4                                      Data Scientist   \n",
       "5                                      Data Scientist   \n",
       "6   Research Scientist - All Levels (Applied Data ...   \n",
       "7                                    Machine Learning   \n",
       "8                                      Data Scientist   \n",
       "9                                      Data Scientist   \n",
       "10                                     Data Scientist   \n",
       "11                 Data Scientist - Journey Analytics   \n",
       "12                                     Data Scientist   \n",
       "13                                     Data Scientist   \n",
       "14  Data Scientist - Worldwide Advanced Analytics ...   \n",
       "15                                     Data Scientist   \n",
       "16                                     Data Scientist   \n",
       "17                                     Data Scientist   \n",
       "18                                     Data Scientist   \n",
       "19                                     Data Scientist   \n",
       "\n",
       "                      company salary  \\\n",
       "0              Morgan Stanley     NA   \n",
       "1                      Google     NA   \n",
       "2               Goldman Sachs     NA   \n",
       "3                    Facebook     NA   \n",
       "4                 Capital One     NA   \n",
       "5                       Coach     NA   \n",
       "6         Columbia University     NA   \n",
       "7                     Twitter     NA   \n",
       "8                     MealPal     NA   \n",
       "9                     Vettery     NA   \n",
       "10                     OnDeck     NA   \n",
       "11         McKinsey & Company     NA   \n",
       "12      MetroPlus Health Plan     NA   \n",
       "13  Amazon Web Services, Inc.     NA   \n",
       "14                        IBM     NA   \n",
       "15            Fareportal Inc.     NA   \n",
       "16                  Loadsmart     NA   \n",
       "17                 Foursquare     NA   \n",
       "18                Foot Locker     NA   \n",
       "19                     Pamten     NA   \n",
       "\n",
       "                                              summary  \n",
       "0   Utilize experience in applying Machine Learnin...  \n",
       "1   4 years of relevant work experience (e.g., as ...  \n",
       "2   IMD Knowledge Management team is looking to ex...  \n",
       "3   The Data Scientist Analytics role has work acr...  \n",
       "4   Integrating with external data sources and API...  \n",
       "5   Build statistical analyses and machine learnin...  \n",
       "6   Contribute to research projects involving one ...  \n",
       "7   Cortex is a team of software engineers, data s...  \n",
       "8   Verify data integrity used in analyses and wor...  \n",
       "9   Build machine learning infrastructure and mode...  \n",
       "10  As a Data Scientist at OnDeck, you will:. Stro...  \n",
       "11  As one of the fastest-growing parts of our fir...  \n",
       "12  MetroPlus Health Plan provides the highest qua...  \n",
       "13  We are looking for talented and experienced Ma...  \n",
       "14  As a member of our team you will get to work h...  \n",
       "15  Advanced skills and training in machine learni...  \n",
       "16  We are looking for a Data Scientist to join us...  \n",
       "17  Strategic analytics, marketing analytics, digi...  \n",
       "18  We are searching for a forward thinking Data S...  \n",
       "19  Experience implementing Regression, Bayesian, ...  "
      ]
     },
     "execution_count": 13,
     "metadata": {},
     "output_type": "execute_result"
    }
   ],
   "source": [
    "jobs0.head(20)"
   ]
  },
  {
   "cell_type": "code",
   "execution_count": 14,
   "metadata": {
    "collapsed": true
   },
   "outputs": [],
   "source": [
    "\n",
    "for col in ['location', 'title', 'salary']:\n",
    "    jobs0[col] = jobs0[col].str.encode('utf-8').astype(str)"
   ]
  },
  {
   "cell_type": "code",
   "execution_count": 15,
   "metadata": {
    "collapsed": true
   },
   "outputs": [],
   "source": [
    "jobs1 = pd.DataFrame(columns=['location', 'title', 'company', 'salary', 'summary'])"
   ]
  },
  {
   "cell_type": "code",
   "execution_count": 16,
   "metadata": {
    "collapsed": true
   },
   "outputs": [],
   "source": [
    "for entry in results:\n",
    "    location = get_loc(entry)\n",
    "    title = get_job(entry)\n",
    "    company = get_comp(entry)\n",
    "    salary = get_sal(entry)\n",
    "    desc = get_desc(entry)\n",
    "    jobs1.loc[len(jobs1)] = [location, title, company, salary, desc]"
   ]
  },
  {
   "cell_type": "code",
   "execution_count": 17,
   "metadata": {
    "collapsed": true
   },
   "outputs": [],
   "source": [
    "jobs1.company = jobs1.company.str.encode('utf-8').astype(str).str.replace('\\n', '')\n",
    "jobs1.summary = jobs1.summary.str.encode('utf-8').astype(str).str.replace('\\n', '')"
   ]
  },
  {
   "cell_type": "code",
   "execution_count": 18,
   "metadata": {
    "collapsed": true
   },
   "outputs": [],
   "source": [
    "for col in ['location', 'title', 'salary']:\n",
    "    jobs1[col] = jobs1[col].str.encode('utf-8').astype(str)"
   ]
  },
  {
   "cell_type": "code",
   "execution_count": 19,
   "metadata": {},
   "outputs": [
    {
     "data": {
      "text/html": [
       "<div>\n",
       "<style>\n",
       "    .dataframe thead tr:only-child th {\n",
       "        text-align: right;\n",
       "    }\n",
       "\n",
       "    .dataframe thead th {\n",
       "        text-align: left;\n",
       "    }\n",
       "\n",
       "    .dataframe tbody tr th {\n",
       "        vertical-align: top;\n",
       "    }\n",
       "</style>\n",
       "<table border=\"1\" class=\"dataframe\">\n",
       "  <thead>\n",
       "    <tr style=\"text-align: right;\">\n",
       "      <th></th>\n",
       "      <th>location</th>\n",
       "      <th>title</th>\n",
       "      <th>company</th>\n",
       "      <th>salary</th>\n",
       "      <th>summary</th>\n",
       "    </tr>\n",
       "  </thead>\n",
       "  <tbody>\n",
       "    <tr>\n",
       "      <th>0</th>\n",
       "      <td>New York, NY 10032 (Washington Heights area)</td>\n",
       "      <td>Associate, Data Scientist</td>\n",
       "      <td>Morgan Stanley</td>\n",
       "      <td>NA</td>\n",
       "      <td>Utilize experience in applying Machine Learnin...</td>\n",
       "    </tr>\n",
       "    <tr>\n",
       "      <th>1</th>\n",
       "      <td>New York, NY 10011 (Chelsea area)</td>\n",
       "      <td>Data Scientist/Quantitative Analyst, Engineering</td>\n",
       "      <td>Google</td>\n",
       "      <td>NA</td>\n",
       "      <td>4 years of relevant work experience (e.g., as ...</td>\n",
       "    </tr>\n",
       "    <tr>\n",
       "      <th>2</th>\n",
       "      <td>New York, NY 10282 (Tribeca area)</td>\n",
       "      <td>Technology - GSAM Tech - Data Science and Mach...</td>\n",
       "      <td>Goldman Sachs</td>\n",
       "      <td>NA</td>\n",
       "      <td>IMD Knowledge Management team is looking to ex...</td>\n",
       "    </tr>\n",
       "    <tr>\n",
       "      <th>3</th>\n",
       "      <td>New York, NY</td>\n",
       "      <td>Data Scientist, Analytics</td>\n",
       "      <td>Facebook</td>\n",
       "      <td>NA</td>\n",
       "      <td>The Data Scientist Analytics role has work acr...</td>\n",
       "    </tr>\n",
       "    <tr>\n",
       "      <th>4</th>\n",
       "      <td>New York, NY</td>\n",
       "      <td>Data Scientist</td>\n",
       "      <td>Capital One</td>\n",
       "      <td>NA</td>\n",
       "      <td>Integrating with external data sources and API...</td>\n",
       "    </tr>\n",
       "  </tbody>\n",
       "</table>\n",
       "</div>"
      ],
      "text/plain": [
       "                                       location  \\\n",
       "0  New York, NY 10032 (Washington Heights area)   \n",
       "1             New York, NY 10011 (Chelsea area)   \n",
       "2             New York, NY 10282 (Tribeca area)   \n",
       "3                                  New York, NY   \n",
       "4                                  New York, NY   \n",
       "\n",
       "                                               title         company salary  \\\n",
       "0                          Associate, Data Scientist  Morgan Stanley     NA   \n",
       "1   Data Scientist/Quantitative Analyst, Engineering          Google     NA   \n",
       "2  Technology - GSAM Tech - Data Science and Mach...   Goldman Sachs     NA   \n",
       "3                          Data Scientist, Analytics        Facebook     NA   \n",
       "4                                     Data Scientist     Capital One     NA   \n",
       "\n",
       "                                             summary  \n",
       "0  Utilize experience in applying Machine Learnin...  \n",
       "1  4 years of relevant work experience (e.g., as ...  \n",
       "2  IMD Knowledge Management team is looking to ex...  \n",
       "3  The Data Scientist Analytics role has work acr...  \n",
       "4  Integrating with external data sources and API...  "
      ]
     },
     "execution_count": 19,
     "metadata": {},
     "output_type": "execute_result"
    }
   ],
   "source": [
    "jobs1.head()"
   ]
  },
  {
   "cell_type": "code",
   "execution_count": 21,
   "metadata": {},
   "outputs": [],
   "source": [
    "results = pd.concat([jobs0, jobs1]).drop_duplicates()"
   ]
  },
  {
   "cell_type": "code",
   "execution_count": 42,
   "metadata": {},
   "outputs": [
    {
     "data": {
      "text/plain": [
       "(1406, 5)"
      ]
     },
     "execution_count": 42,
     "metadata": {},
     "output_type": "execute_result"
    }
   ],
   "source": [
    "results.shape"
   ]
  },
  {
   "cell_type": "code",
   "execution_count": 32,
   "metadata": {},
   "outputs": [],
   "source": []
  },
  {
   "cell_type": "code",
   "execution_count": null,
   "metadata": {
    "collapsed": true
   },
   "outputs": [],
   "source": [
    "#breather"
   ]
  },
  {
   "cell_type": "code",
   "execution_count": 26,
   "metadata": {
    "collapsed": true
   },
   "outputs": [],
   "source": []
  },
  {
   "cell_type": "code",
   "execution_count": 33,
   "metadata": {
    "collapsed": true
   },
   "outputs": [],
   "source": []
  },
  {
   "cell_type": "code",
   "execution_count": 49,
   "metadata": {},
   "outputs": [],
   "source": [
    "salaries = results"
   ]
  },
  {
   "cell_type": "code",
   "execution_count": 53,
   "metadata": {
    "collapsed": true
   },
   "outputs": [],
   "source": [
    "salaries = salaries[salaries.salary.notnull()]"
   ]
  },
  {
   "cell_type": "code",
   "execution_count": 52,
   "metadata": {},
   "outputs": [
    {
     "data": {
      "text/html": [
       "<div>\n",
       "<style>\n",
       "    .dataframe thead tr:only-child th {\n",
       "        text-align: right;\n",
       "    }\n",
       "\n",
       "    .dataframe thead th {\n",
       "        text-align: left;\n",
       "    }\n",
       "\n",
       "    .dataframe tbody tr th {\n",
       "        vertical-align: top;\n",
       "    }\n",
       "</style>\n",
       "<table border=\"1\" class=\"dataframe\">\n",
       "  <thead>\n",
       "    <tr style=\"text-align: right;\">\n",
       "      <th></th>\n",
       "      <th>location</th>\n",
       "      <th>title</th>\n",
       "      <th>company</th>\n",
       "      <th>salary</th>\n",
       "      <th>summary</th>\n",
       "    </tr>\n",
       "  </thead>\n",
       "  <tbody>\n",
       "  </tbody>\n",
       "</table>\n",
       "</div>"
      ],
      "text/plain": [
       "Empty DataFrame\n",
       "Columns: [location, title, company, salary, summary]\n",
       "Index: []"
      ]
     },
     "execution_count": 52,
     "metadata": {},
     "output_type": "execute_result"
    }
   ],
   "source": [
    "salaries.head()"
   ]
  },
  {
   "cell_type": "code",
   "execution_count": null,
   "metadata": {
    "collapsed": true
   },
   "outputs": [],
   "source": []
  },
  {
   "cell_type": "code",
   "execution_count": null,
   "metadata": {
    "collapsed": true
   },
   "outputs": [],
   "source": []
  },
  {
   "cell_type": "code",
   "execution_count": null,
   "metadata": {
    "collapsed": true
   },
   "outputs": [],
   "source": []
  },
  {
   "cell_type": "code",
   "execution_count": null,
   "metadata": {
    "collapsed": true
   },
   "outputs": [],
   "source": []
  },
  {
   "cell_type": "code",
   "execution_count": null,
   "metadata": {
    "collapsed": true
   },
   "outputs": [],
   "source": []
  },
  {
   "cell_type": "code",
   "execution_count": null,
   "metadata": {
    "collapsed": true
   },
   "outputs": [],
   "source": []
  },
  {
   "cell_type": "code",
   "execution_count": null,
   "metadata": {
    "collapsed": true
   },
   "outputs": [],
   "source": []
  },
  {
   "cell_type": "code",
   "execution_count": null,
   "metadata": {
    "collapsed": true
   },
   "outputs": [],
   "source": []
  }
 ],
 "metadata": {
  "kernelspec": {
   "display_name": "Python 2",
   "language": "python",
   "name": "python2"
  },
  "language_info": {
   "codemirror_mode": {
    "name": "ipython",
    "version": 2
   },
   "file_extension": ".py",
   "mimetype": "text/x-python",
   "name": "python",
   "nbconvert_exporter": "python",
   "pygments_lexer": "ipython2",
   "version": "2.7.13"
  }
 },
 "nbformat": 4,
 "nbformat_minor": 2
}
